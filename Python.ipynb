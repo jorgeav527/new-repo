{
 "cells": [
  {
   "cell_type": "code",
   "execution_count": 1,
   "id": "4f5e6820-a7e4-4426-aaa7-f80db72a090b",
   "metadata": {},
   "outputs": [],
   "source": [
    "%load_ext lab_black"
   ]
  },
  {
   "cell_type": "code",
   "execution_count": 3,
   "id": "79ff2dbb-8d71-45d6-831b-1ccd646611f6",
   "metadata": {},
   "outputs": [
    {
     "name": "stdout",
     "output_type": "stream",
     "text": [
      "This is also a string.\n"
     ]
    }
   ],
   "source": [
    "print(\"This is also a string.\")"
   ]
  },
  {
   "cell_type": "code",
   "execution_count": 6,
   "id": "8a8b3fb9-d424-4bbb-bcb3-d2c929b854d1",
   "metadata": {},
   "outputs": [
    {
     "name": "stdout",
     "output_type": "stream",
     "text": [
      "h\n"
     ]
    }
   ],
   "source": [
    "print(\"This is a string\"[1])"
   ]
  },
  {
   "cell_type": "code",
   "execution_count": 7,
   "id": "845b2c55-1c74-4a8c-951b-7c3186c9c9a6",
   "metadata": {},
   "outputs": [
    {
     "name": "stdout",
     "output_type": "stream",
     "text": [
      "jorge is 33 years old.\n"
     ]
    }
   ],
   "source": [
    "# La forma que se utiliza\n",
    "name = \"jorge\"\n",
    "age = 33\n",
    "print(f\"{name} is {age} years old.\")"
   ]
  },
  {
   "cell_type": "code",
   "execution_count": 8,
   "id": "308636f1-4748-4e0d-bb69-d08f96ba77a2",
   "metadata": {},
   "outputs": [
    {
     "name": "stdout",
     "output_type": "stream",
     "text": [
      "w3ce\n"
     ]
    }
   ],
   "source": [
    "cad = \"w3resource\"\n",
    "print(cad[:2] + cad[-2:])"
   ]
  },
  {
   "cell_type": "code",
   "execution_count": 14,
   "id": "71a76d4f-95bb-4779-b130-1a3a9b69e6a5",
   "metadata": {},
   "outputs": [],
   "source": [
    "li = [1, \"hola\", True, {1, 3}]"
   ]
  },
  {
   "cell_type": "code",
   "execution_count": 16,
   "id": "c3b17900-7ffb-49aa-9a7d-3665aff43acf",
   "metadata": {},
   "outputs": [
    {
     "data": {
      "text/plain": [
       "False"
      ]
     },
     "execution_count": 16,
     "metadata": {},
     "output_type": "execute_result"
    }
   ],
   "source": [
    "8 in li"
   ]
  },
  {
   "cell_type": "code",
   "execution_count": 17,
   "id": "58d0263b-760f-40f2-b02f-51a1fd7c52b0",
   "metadata": {},
   "outputs": [],
   "source": [
    "li = [10000]"
   ]
  },
  {
   "cell_type": "code",
   "execution_count": 18,
   "id": "267f7ee8-3518-49c4-82a5-08fe5e188c92",
   "metadata": {},
   "outputs": [],
   "source": [
    "from typing import Tuple\n",
    "\n",
    "\n",
    "def resultado_i(x: int, y: str) -> Tuple[int, str]:\n",
    "    return (x, y)"
   ]
  },
  {
   "cell_type": "code",
   "execution_count": 19,
   "id": "9c6dcbcb-612c-493a-91b6-a2087c6275c8",
   "metadata": {},
   "outputs": [
    {
     "data": {
      "text/plain": [
       "(5, 'i')"
      ]
     },
     "execution_count": 19,
     "metadata": {},
     "output_type": "execute_result"
    }
   ],
   "source": [
    "r = resultado_i(x=5, y=\"i\")\n",
    "r"
   ]
  },
  {
   "cell_type": "code",
   "execution_count": 20,
   "id": "81bd660c-e8e9-471f-8284-7163c57bfd08",
   "metadata": {},
   "outputs": [
    {
     "name": "stdout",
     "output_type": "stream",
     "text": [
      "{'one': 1, 'two': 2, 'three': 3}\n"
     ]
    }
   ],
   "source": [
    "empty_dict = {}\n",
    "filled_dict = {\"one\": 1, \"two\": 2, \"three\": 3}\n",
    "print(filled_dict)"
   ]
  },
  {
   "cell_type": "code",
   "execution_count": 27,
   "id": "15268ea8-b599-4ae1-8d80-f83bde2b5686",
   "metadata": {},
   "outputs": [],
   "source": [
    "filled_dict[\"one\"] = 5"
   ]
  },
  {
   "cell_type": "code",
   "execution_count": 28,
   "id": "f39d0bb4-1311-485f-8c1c-4f64b57ec19e",
   "metadata": {},
   "outputs": [
    {
     "data": {
      "text/plain": [
       "{'one': 5, 'two': 2, 'three': 3}"
      ]
     },
     "execution_count": 28,
     "metadata": {},
     "output_type": "execute_result"
    }
   ],
   "source": [
    "filled_dict"
   ]
  },
  {
   "cell_type": "code",
   "execution_count": null,
   "id": "ca508645-0b20-426c-899a-1494c153ed7a",
   "metadata": {},
   "outputs": [],
   "source": [
    "for i in range(1, 51):\n",
    "    if i % 5 ==0:\n",
    "        print('BUZZ')\n",
    "\n",
    "    if i % 3 == 0:\n",
    "        print('FIZZ')\n",
    "        \n",
    "    if i % 3 == 0 and i % 5 == 0:\n",
    "        print('FIZZBUZZ')"
   ]
  },
  {
   "cell_type": "code",
   "execution_count": 36,
   "id": "e87ffc57-90db-4169-b576-bce2b9f39ef0",
   "metadata": {},
   "outputs": [],
   "source": [
    "from typing import Tuple\n",
    "\n",
    "\n",
    "def resultado_i(x: float, y: float) -> float:\n",
    "    return x + y"
   ]
  },
  {
   "cell_type": "code",
   "execution_count": 38,
   "id": "2c9ae20f-cf23-4a34-9252-b3f8b9d66252",
   "metadata": {},
   "outputs": [],
   "source": [
    "i = resultado_i(x=5.0, y=8.5)"
   ]
  },
  {
   "cell_type": "code",
   "execution_count": 40,
   "id": "609a1d22-5bad-4729-8da3-36ae8b4cbac0",
   "metadata": {},
   "outputs": [],
   "source": [
    "x = 5"
   ]
  },
  {
   "cell_type": "code",
   "execution_count": null,
   "id": "e1e8d22f-af34-4180-a4b5-c052a50320a7",
   "metadata": {},
   "outputs": [],
   "source": []
  }
 ],
 "metadata": {
  "kernelspec": {
   "display_name": "Python 3 (ipykernel)",
   "language": "python",
   "name": "python3"
  },
  "language_info": {
   "codemirror_mode": {
    "name": "ipython",
    "version": 3
   },
   "file_extension": ".py",
   "mimetype": "text/x-python",
   "name": "python",
   "nbconvert_exporter": "python",
   "pygments_lexer": "ipython3",
   "version": "3.11.2"
  }
 },
 "nbformat": 4,
 "nbformat_minor": 5
}
